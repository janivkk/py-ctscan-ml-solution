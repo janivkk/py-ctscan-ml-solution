{
 "cells": [
  {
   "cell_type": "code",
   "execution_count": 3,
   "id": "d5e4e91b",
   "metadata": {},
   "outputs": [
    {
     "name": "stdout",
     "output_type": "stream",
     "text": [
      " Torch detected ... available for use ... version ... 2.0.1\n"
     ]
    }
   ],
   "source": [
    "# https://www.learnpytorch.io/03_pytorch_computer_vision/ - Computer Vision\n",
    "# https://www.learnpytorch.io/04_pytorch_custom_datasets/ - Custom Datasets\n",
    "\n",
    "import torch \n",
    "from torch import nn\n",
    "\n",
    "\"\"\" Note: this notebook requires torch >= 1.10.0 \"\"\"\n",
    "print(\" Torch detected ... available for use ... version ... {}\".format(torch.__version__))"
   ]
  },
  {
   "cell_type": "code",
   "execution_count": 4,
   "id": "0a4b9ce8",
   "metadata": {},
   "outputs": [
    {
     "data": {
      "text/plain": [
       "device(type='cuda', index=0)"
      ]
     },
     "execution_count": 4,
     "metadata": {},
     "output_type": "execute_result"
    }
   ],
   "source": [
    "\"\"\" Setup device-agnostic code, if CUDA is detected.. \"\"\"\n",
    "torch.device(\"cuda:0\" if torch.cuda.is_available() else \"cpu\")"
   ]
  },
  {
   "cell_type": "code",
   "execution_count": 24,
   "id": "22102ee3",
   "metadata": {},
   "outputs": [],
   "source": [
    "data_path = 'C:/Users/janek/PyTorch + CNN for Haemorrhage Classifier/__datasets__/sml'"
   ]
  },
  {
   "cell_type": "code",
   "execution_count": 25,
   "id": "d17869ed",
   "metadata": {},
   "outputs": [],
   "source": [
    "import os\n",
    "def walk_through_directory(dir_path: str):\n",
    "    for dirpath, dirnames, filenames in os.walk(dir_path):\n",
    "        print(f\"There are {len(dirnames)} directories and {len(filenames)} images in '{dirpath}'.\")"
   ]
  },
  {
   "cell_type": "code",
   "execution_count": 26,
   "id": "8d732b0f",
   "metadata": {},
   "outputs": [
    {
     "name": "stdout",
     "output_type": "stream",
     "text": [
      "There are 0 directories and 200 images in 'C:/Users/janek/PyTorch + CNN for Haemorrhage Classifier/__datasets__/sml'.\n"
     ]
    }
   ],
   "source": [
    "\"\"\" Return 'n' directories and 'n' images in a specified directory. \"\"\"\n",
    "walk_through_directory(data_path)"
   ]
  },
  {
   "cell_type": "code",
   "execution_count": 29,
   "id": "a13f0341",
   "metadata": {},
   "outputs": [
    {
     "name": "stderr",
     "output_type": "stream",
     "text": [
      "C:\\Users\\janek\\anaconda3\\lib\\site-packages\\torchvision\\io\\image.py:13: UserWarning: Failed to load image Python extension: [WinError 127] The specified procedure could not be found\n",
      "  warn(f\"Failed to load image Python extension: {e}\")\n"
     ]
    },
    {
     "ename": "AttributeError",
     "evalue": "module 'torchvision.datasets' has no attribute 'Imagefolder'",
     "output_type": "error",
     "traceback": [
      "\u001b[1;31m---------------------------------------------------------------------------\u001b[0m",
      "\u001b[1;31mAttributeError\u001b[0m                            Traceback (most recent call last)",
      "Cell \u001b[1;32mIn[29], line 12\u001b[0m\n\u001b[0;32m      3\u001b[0m \u001b[38;5;124;03m\"\"\"orig_set = torchvision.datasets.Imagefolder(...)  # your dataset\u001b[39;00m\n\u001b[0;32m      4\u001b[0m \u001b[38;5;124;03mn = len(orig_set)  # total number of examples\u001b[39;00m\n\u001b[0;32m      5\u001b[0m \u001b[38;5;124;03mn_test = int(0.1 * n)  # take ~10% for test\u001b[39;00m\n\u001b[0;32m      6\u001b[0m \u001b[38;5;124;03mtest_set = torch.utils.data.Subset(orig_set, range(n_test))  # take first 10%\u001b[39;00m\n\u001b[0;32m      7\u001b[0m \u001b[38;5;124;03mtrain_set = torch.utils.data.Subset(orig_set, range(n_test, n))  # take the rest\"\"\"\u001b[39;00m\n\u001b[0;32m      9\u001b[0m \u001b[38;5;28;01mimport\u001b[39;00m \u001b[38;5;21;01mtorchvision\u001b[39;00m\n\u001b[1;32m---> 12\u001b[0m origin_dir \u001b[38;5;241m=\u001b[39m \u001b[43mtorchvision\u001b[49m\u001b[38;5;241;43m.\u001b[39;49m\u001b[43mdatasets\u001b[49m\u001b[38;5;241;43m.\u001b[39;49m\u001b[43mImagefolder\u001b[49m(data_path)\n\u001b[0;32m     13\u001b[0m total_data \u001b[38;5;241m=\u001b[39m \u001b[38;5;28mlen\u001b[39m(origin_dir)\n\u001b[0;32m     14\u001b[0m total_test \u001b[38;5;241m=\u001b[39m \u001b[38;5;28mint\u001b[39m(\u001b[38;5;241m0.1\u001b[39m \u001b[38;5;241m*\u001b[39m total_data)\n",
      "\u001b[1;31mAttributeError\u001b[0m: module 'torchvision.datasets' has no attribute 'Imagefolder'"
     ]
    }
   ],
   "source": [
    "#  X_train, X_test, y_train, y_test = train_test_split(X, y, test_size=0.33, random_state=42)\n",
    "\n",
    "\"\"\"orig_set = torchvision.datasets.Imagefolder(...)  # your dataset\n",
    "n = len(orig_set)  # total number of examples\n",
    "n_test = int(0.1 * n)  # take ~10% for test\n",
    "test_set = torch.utils.data.Subset(orig_set, range(n_test))  # take first 10%\n",
    "train_set = torch.utils.data.Subset(orig_set, range(n_test, n))  # take the rest\"\"\"\n",
    "\n",
    "import torchvision\n",
    "\n",
    "origin_dir = torchvision.datasets.Imagefolder(data_path)\n",
    "total_data = len(origin_dir)\n",
    "total_test = int(0.1 * total_data)\n",
    "\n",
    "test_set = troch.utils.data.Subset(origin_dir, range(total_test))\n",
    "train_set = torch.utils.data.Subset(origin_dir, range(total_test, total_data))"
   ]
  }
 ],
 "metadata": {
  "celltoolbar": "Tags",
  "kernelspec": {
   "display_name": "Python 3 (ipykernel)",
   "language": "python",
   "name": "python3"
  },
  "language_info": {
   "codemirror_mode": {
    "name": "ipython",
    "version": 3
   },
   "file_extension": ".py",
   "mimetype": "text/x-python",
   "name": "python",
   "nbconvert_exporter": "python",
   "pygments_lexer": "ipython3",
   "version": "3.10.9"
  }
 },
 "nbformat": 4,
 "nbformat_minor": 5
}
