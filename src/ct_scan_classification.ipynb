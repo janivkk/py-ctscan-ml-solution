{
 "cells": [
  {
   "cell_type": "code",
   "execution_count": 3,
   "metadata": {},
   "outputs": [],
   "source": [
    "#   Install required packages through pip in the script to run all.\n",
    "import subprocess\n",
    "import sys\n",
    "import pkg_resources\n",
    "\n",
    "#   Install the packages that are not present on someone else's / personal computer.\n",
    "\n",
    "def install_dependecies():\n",
    "    #   https://stackoverflow.com/questions/44210656/how-to-check-if-a-module-is-installed-in-python-and-if-not-install-it-within-t\n",
    "\n",
    "    required_dependecies = {'torch', 'torchvision', 'torchaudio', 'numpy', 'pandas', 'kaggle', 'scikit-learn', 'notebook'}\n",
    "    installed_dependecies = { pkg.key for pkg in pkg_resources.working_set }\n",
    "\n",
    "    missing = required_dependecies - installed_dependecies\n",
    "\n",
    "    if missing:\n",
    "        python = sys.executable\n",
    "        subprocess.check_all([python, '-m', 'pip', 'install', *missing])"
   ]
  },
  {
   "cell_type": "code",
   "execution_count": 5,
   "metadata": {},
   "outputs": [],
   "source": [
    "import numpy as np  #   numPy dependency for linear algebra.\n",
    "import pandas as pd #   Data processing for CSV file I/O.\n",
    "\n",
    "#   The input data files are only available with read-only permission in \"../input/ dir.\"\n",
    "\n",
    "#   Authentication for the Kaggle datasets.\n",
    "import os\n",
    "# import kaggle\n",
    "\n",
    "import torch\n",
    "import torchvision\n",
    "import torchvision.transforms as transforms"
   ]
  },
  {
   "cell_type": "code",
   "execution_count": 6,
   "metadata": {},
   "outputs": [
    {
     "name": "stdout",
     "output_type": "stream",
     "text": [
      "Running on - cpu\n"
     ]
    }
   ],
   "source": [
    "#   Install all missing dependecies before carrying out anything.\n",
    "# install_dependecies()\n",
    "\n",
    "#   If NVIDIA Cuda device is available on the machine use, if not use CPU as per default.\n",
    "cuda_device = torch.device('cuda:0' if torch.cuda.is_available() else 'cpu')\n",
    "print(f\"Running on - {cuda_device}\")\n",
    "\n",
    "#   Download dataset from Kaggle using Kaggle's API doc.. & authenticate by requested private token. Change this if you want to use your own.\n",
    "os.environ['KAGGLE_USERNAME'] = \"janiiuu\"\n",
    "os.environ['KAGGLE_KEY'] = \"512d72fa81bceaa26dfe9b8a685a158e\"\n",
    "\n",
    "# kaggle.api.authenticate()\n",
    "\n",
    "# kaggle.api.dataset_download_files('', path='', unzip=True)"
   ]
  }
 ],
 "metadata": {
  "kernelspec": {
   "display_name": "base",
   "language": "python",
   "name": "python3"
  },
  "language_info": {
   "codemirror_mode": {
    "name": "ipython",
    "version": 3
   },
   "file_extension": ".py",
   "mimetype": "text/x-python",
   "name": "python",
   "nbconvert_exporter": "python",
   "pygments_lexer": "ipython3",
   "version": "3.9.12"
  },
  "orig_nbformat": 4
 },
 "nbformat": 4,
 "nbformat_minor": 2
}
