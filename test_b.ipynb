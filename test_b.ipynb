{
 "cells": [
  {
   "cell_type": "code",
   "execution_count": 1,
   "id": "76856c5d",
   "metadata": {},
   "outputs": [],
   "source": [
    "# https://www.kaggle.com/code/shtrausslearning/pytorch-cnn-binary-image-classification\n",
    "# https://www.kaggle.com/code/basu369victor/pytorch-tutorial-the-classification/notebook\n",
    "# https://www.learnpytorch.io/\n",
    "# https://www.mdpi.com/2306-5729/5/1/14\n",
    "# https://superuser.com/questions/1535033/excel-swap-0-and-1-over\n",
    "\n",
    "import numpy as np\n",
    "import pandas as pd\n",
    "import os\n",
    "from tqdm import tqdm_notebook as tqdm\n",
    "from sklearn.preprocessing import LabelEncoder\n",
    "from PIL import Image\n",
    "import matplotlib.pyplot as plt"
   ]
  },
  {
   "cell_type": "code",
   "execution_count": 3,
   "id": "a24cfa40",
   "metadata": {},
   "outputs": [],
   "source": [
    "\"\"\" Import PyTorch .. Neural networks can be constructed using the torch.nn package \"\"\"\n",
    "import torch\n",
    "\n",
    "import torch.nn as nn\n",
    "import torch.nn.functional as F\n",
    "import torch.optim as optim\n",
    "from torch.utils.data.sampler import SubsetRandomSampler\n",
    "from torch.utils.data import Dataset\n",
    "\n",
    "import torchvision\n",
    "import torchvision.transforms as transforms"
   ]
  },
  {
   "cell_type": "code",
   "execution_count": 4,
   "id": "6b539965",
   "metadata": {},
   "outputs": [
    {
     "name": "stdout",
     "output_type": "stream",
     "text": [
      "Libraries have been imported ... successfully ... ready to use PyTorch 2.0.1\n"
     ]
    }
   ],
   "source": [
    "print(\"Libraries have been imported ... successfully ... ready to use PyTorch {}\".format(torch.__version__))"
   ]
  },
  {
   "cell_type": "code",
   "execution_count": 5,
   "id": "8c718a9d",
   "metadata": {},
   "outputs": [
    {
     "data": {
      "text/plain": [
       "device(type='cuda', index=0)"
      ]
     },
     "execution_count": 5,
     "metadata": {},
     "output_type": "execute_result"
    }
   ],
   "source": [
    "\"\"\" Assuming that we are on a CUDA (Nvidia) machine, this should output a CUDA device.. \"\"\"\n",
    "torch.device(\"cuda:0\" if torch.cuda.is_available() else \"cpu\")"
   ]
  },
  {
   "cell_type": "code",
   "execution_count": 7,
   "id": "5e083c4f",
   "metadata": {},
   "outputs": [],
   "source": [
    "base_path: str = \"C:/Users/janek/PyTorch + CNN for Haemorrhage Classifier/__datasets__/lrg\""
   ]
  },
  {
   "cell_type": "code",
   "execution_count": 9,
   "id": "bec4b456",
   "metadata": {},
   "outputs": [],
   "source": [
    "image: list=[] \n",
    "labels: list=[] # Classes / ground truth"
   ]
  },
  {
   "cell_type": "code",
   "execution_count": 10,
   "id": "adc11c07",
   "metadata": {},
   "outputs": [],
   "source": [
    "batch_size: int = 128\n",
    "validation_split: float = 0.3\n",
    "shuffle_dataset: bool = True\n",
    "random_seed: int = 42"
   ]
  },
  {
   "cell_type": "code",
   "execution_count": null,
   "id": "d9a7553a",
   "metadata": {},
   "outputs": [],
   "source": [
    "# Create a data indices for training and validation splits...\n",
    "\n",
    "dataset_size = len(data)"
   ]
  }
 ],
 "metadata": {
  "kernelspec": {
   "display_name": "Python 3 (ipykernel)",
   "language": "python",
   "name": "python3"
  },
  "language_info": {
   "codemirror_mode": {
    "name": "ipython",
    "version": 3
   },
   "file_extension": ".py",
   "mimetype": "text/x-python",
   "name": "python",
   "nbconvert_exporter": "python",
   "pygments_lexer": "ipython3",
   "version": "3.10.9"
  }
 },
 "nbformat": 4,
 "nbformat_minor": 5
}
